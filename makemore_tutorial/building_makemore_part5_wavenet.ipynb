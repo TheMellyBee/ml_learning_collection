{
 "cells": [
  {
   "cell_type": "markdown",
   "id": "524f2386",
   "metadata": {},
   "source": [
    "# Continuation of Makemore - WaveNet\n",
    "We YouTube series by Andrej Karpathy.\n",
    "\n",
    "We have created the MLP frrom [Bengio, et all](https://www.jmlr.org/papers/volume3/bengio03a/bengio03a.pdf) to make a simple character level MLP. This time will will be adding in a tree like structure that will work us towards a CNN similar to [DeepMind WaveNet 2016](https://arxiv.org/abs/1609.03499) . Note this is only looking at the basic architecture and does not implement the residual gates at this time.\n",
    "\n",
    "I will be building out a similar to [this tool](https://github.com/karpathy/makemore/tree/master) from scratch. Note that I will be following the tutorial doing it step by step not looking at the final repo. We want to get more characters into a the NN and we want to fuse the layers on the way instead of squashing everything into a single hidden layer.\n",
    "\n",
    "Over all I will work through these papers:\n",
    "- Bigram (one character predicts the next one with a lookup table of counts)\n",
    "- MLP, following [Bengio et al. 2003](https://www.jmlr.org/papers/volume3/bengio03a/bengio03a.pdf)\n",
    "- CNN, following [DeepMind WaveNet 2016](https://arxiv.org/abs/1609.03499) \n",
    "- RNN, following [Mikolov et al. 2010](https://www.fit.vutbr.cz/research/groups/speech/publi/2010/mikolov_interspeech2010_IS100722.pdf)\n",
    "- LSTM, following [Graves et al. 2014](https://arxiv.org/abs/1308.0850)\n",
    "- GRU, following [Kyunghyun Cho et al. 2014](https://arxiv.org/abs/1409.1259)\n",
    "- Transformer, following [Vaswani et al. 2017](https://arxiv.org/abs/1706.03762"
   ]
  },
  {
   "cell_type": "code",
   "execution_count": 2,
   "id": "faba04e0",
   "metadata": {},
   "outputs": [],
   "source": [
    "import torch\n",
    "import math\n",
    "import numpy as np\n",
    "import matplotlib.pyplot as plt\n",
    "import random\n",
    "import torch.nn.functional as F\n",
    "%matplotlib inline"
   ]
  },
  {
   "cell_type": "code",
   "execution_count": 3,
   "id": "bd2f422f",
   "metadata": {},
   "outputs": [
    {
     "name": "stdout",
     "output_type": "stream",
     "text": [
      "Total number of words: 32033\n",
      "Smallest Word is 2 char while the largest is 15 char\n"
     ]
    }
   ],
   "source": [
    "words = open(\"data/names.txt\", \"r\").read().splitlines()\n",
    "print(f'Total number of words: {len(words)}')\n",
    "smallest = min(len(w) for w in words)\n",
    "largest = max(len(w) for w in words)\n",
    "print(f'Smallest Word is {smallest} char while the largest is {largest} char')"
   ]
  },
  {
   "cell_type": "code",
   "execution_count": 4,
   "id": "bfec90cf",
   "metadata": {},
   "outputs": [],
   "source": [
    "import random\n",
    "random.seed(42)\n",
    "random.shuffle(words)"
   ]
  },
  {
   "cell_type": "code",
   "execution_count": 5,
   "id": "b2d2608a",
   "metadata": {},
   "outputs": [
    {
     "name": "stdout",
     "output_type": "stream",
     "text": [
      "{1: 'a', 2: 'b', 3: 'c', 4: 'd', 5: 'e', 6: 'f', 7: 'g', 8: 'h', 9: 'i', 10: 'j', 11: 'k', 12: 'l', 13: 'm', 14: 'n', 15: 'o', 16: 'p', 17: 'q', 18: 'r', 19: 's', 20: 't', 21: 'u', 22: 'v', 23: 'w', 24: 'x', 25: 'y', 26: 'z', 0: '.'}\n",
      "27\n"
     ]
    }
   ],
   "source": [
    "# build the covabulary of chars and mappings \n",
    "chars = sorted(list(set(''.join(words))))\n",
    "str_to_ind = {s:i + 1 for i,s in enumerate(chars)}\n",
    "str_to_ind['.'] = 0\n",
    "ind_to_str = {i:s for s,i in str_to_ind.items()}\n",
    "print(ind_to_str)\n",
    "vocab_size = len(ind_to_str)\n",
    "print(vocab_size)"
   ]
  },
  {
   "cell_type": "code",
   "execution_count": 46,
   "id": "5a3f9e8d",
   "metadata": {},
   "outputs": [
    {
     "name": "stdout",
     "output_type": "stream",
     "text": [
      "torch.Size([182625, 8]) torch.Size([182625])\n",
      "torch.Size([22655, 8]) torch.Size([22655])\n",
      "torch.Size([22866, 8]) torch.Size([22866])\n"
     ]
    }
   ],
   "source": [
    "def build_dataset(words, block_size=3):\n",
    "    X, Y = [], []\n",
    "    for word in words:\n",
    "        context = [0] * block_size # padded\n",
    "        for ch in word + '.':\n",
    "            ind = str_to_ind[ch]\n",
    "            X.append(context)\n",
    "            Y.append(ind)\n",
    "            context = context[1:] + [ind] # crop and append\n",
    "\n",
    "    X = torch.tensor(X)\n",
    "    Y = torch.tensor(Y)\n",
    "    print(X.shape, Y.shape)\n",
    "    return X, Y\n",
    "\n",
    "\n",
    "n1 = int(0.8 * len(words))\n",
    "n2 = int(0.9 * len(words))\n",
    "\n",
    "block_size=8\n",
    "X_train, Y_train = build_dataset(words[:n1], block_size=block_size)\n",
    "X_dev, Y_dev = build_dataset(words[n1:n2], block_size=block_size)\n",
    "X_test, Y_test = build_dataset(words[n2:], block_size=block_size)"
   ]
  },
  {
   "cell_type": "code",
   "execution_count": 47,
   "id": "ea772d34",
   "metadata": {},
   "outputs": [
    {
     "name": "stdout",
     "output_type": "stream",
     "text": [
      "........ --> y\n",
      ".......y --> u\n",
      "......yu --> h\n",
      ".....yuh --> e\n",
      "....yuhe --> n\n",
      "...yuhen --> g\n",
      "..yuheng --> .\n",
      "........ --> d\n",
      ".......d --> i\n",
      "......di --> o\n",
      ".....dio --> n\n",
      "....dion --> d\n",
      "...diond --> r\n",
      "..diondr --> e\n",
      ".diondre --> .\n",
      "........ --> x\n",
      ".......x --> a\n",
      "......xa --> v\n",
      ".....xav --> i\n",
      "....xavi --> e\n"
     ]
    }
   ],
   "source": [
    "for x,y in zip(X_train[:20], Y_train[:20]):\n",
    "    print(''.join(ind_to_str[ix.item()] for ix in x), '-->', ind_to_str[y.item()])"
   ]
  },
  {
   "cell_type": "code",
   "execution_count": 68,
   "id": "63441d7d",
   "metadata": {},
   "outputs": [],
   "source": [
    "class Linear:\n",
    "    def __init__(self, fan_in, fan_out, bias=True):\n",
    "        # kaiming normal\n",
    "        self.weight = torch.randn((fan_in, fan_out)) / fan_in**0.5 \n",
    "        self.bias = torch.zeros(fan_out) if bias else None\n",
    "        \n",
    "    def __call__(self, x):\n",
    "        self.out = x @ self.weight\n",
    "        if self.bias is not None:\n",
    "            self.out += self.bias\n",
    "        return self.out\n",
    "    \n",
    "    def parameters(self):\n",
    "        return [self.weight] + ([] if self.bias is None else [self.bias])\n",
    "    \n",
    "class BatchNorm1D:\n",
    "    # this departs from the pytorchs' where they assume (N, C, L) we assume (N, L, C)\n",
    "    \n",
    "    def __init__(self, dim, eps=1e-5, momentum=0.1):\n",
    "        self.eps = eps\n",
    "        self.momentum = momentum\n",
    "        self.training = True\n",
    "        \n",
    "        # training with backprop\n",
    "        self.gamma = torch.ones(dim)\n",
    "        self.beta = torch.zeros(dim)\n",
    "        \n",
    "        \n",
    "        # buffers \n",
    "        self.running_mean = torch.zeros(dim)\n",
    "        self.running_var = torch.ones(dim)\n",
    "        \n",
    "    def __call__(self, x):\n",
    "        # forward pass\n",
    "        if self.training:\n",
    "            if x.ndim == 2:\n",
    "                dim = 0\n",
    "            elif x.ndim == 3:\n",
    "                dim = (0,1)\n",
    "            x_mean = x.mean(dim, keepdim=True)\n",
    "            x_var = x.var(dim, keepdim=True, unbiased=True) \n",
    "        else:\n",
    "            x_mean = self.running_mean\n",
    "            x_var = self.running_var\n",
    "        \n",
    "        x_hat = (x - x_mean) / torch.sqrt(x_var + self.eps)\n",
    "        self.out = self.gamma * x_hat + self.beta\n",
    "        \n",
    "        # update buffers\n",
    "        if self.training:\n",
    "            with torch.no_grad():\n",
    "                hinderance = 1 - self.momentum\n",
    "                self.running_mean = hinderance * self.running_mean + self.momentum * x_mean\n",
    "                self.running_var = hinderance * self.running_var + self.momentum * x_var\n",
    "        return self.out\n",
    "                \n",
    "    def parameters(self):\n",
    "        return [self.gamma, self.beta]\n",
    "    \n",
    "class Tanh:\n",
    "    def __call__(self, x):\n",
    "        self.out = torch.tanh(x)\n",
    "        return self.out\n",
    "    \n",
    "    def parameters(self):\n",
    "        return []\n",
    "\n",
    "class Embedding:\n",
    "    def __init__(self, num_embeddings, embedding_dim):\n",
    "        self.weight = torch.randn((num_embeddings, embedding_dim))\n",
    "        \n",
    "    def __call__(self, IX):\n",
    "        self.out = self.weight[IX]\n",
    "        return self.out\n",
    "    \n",
    "    def parameters(self):\n",
    "        return [self.weight]\n",
    "    \n",
    "class FlattenConsecutive:\n",
    "    def __init__(self, n):\n",
    "        self.n = n\n",
    "    \n",
    "    def __call__(self, x):\n",
    "        B, T, C, = x.shape\n",
    "        x = x.view(B, T//self.n, C*self.n)\n",
    "        \n",
    "        if x.shape[1] == 1:\n",
    "            x = x.squeeze(dim=1)\n",
    "        \n",
    "        self.out = x\n",
    "        return self.out\n",
    "    \n",
    "    def parameters(self):\n",
    "        return []\n",
    "    \n",
    "class Sequential:\n",
    "    def __init__(self, layers):\n",
    "        self.layers = layers\n",
    "        \n",
    "    def __call__(self, x):\n",
    "        for layer in self.layers:\n",
    "            x = layer(x)\n",
    "        self.out = x\n",
    "        return self.out\n",
    "    \n",
    "    def parameters(self):\n",
    "        # get parameters from all layers into one list\n",
    "        return [p for layer in self.layers for p in layer.parameters()]"
   ]
  },
  {
   "cell_type": "code",
   "execution_count": 69,
   "id": "f34d8381",
   "metadata": {},
   "outputs": [
    {
     "data": {
      "text/plain": [
       "<torch._C.Generator at 0x108690990>"
      ]
     },
     "execution_count": 69,
     "metadata": {},
     "output_type": "execute_result"
    }
   ],
   "source": [
    "torch.manual_seed(42) # see rng for reproduction"
   ]
  },
  {
   "cell_type": "code",
   "execution_count": 77,
   "id": "051a871e",
   "metadata": {},
   "outputs": [
    {
     "name": "stdout",
     "output_type": "stream",
     "text": [
      "22397\n"
     ]
    }
   ],
   "source": [
    "n_emb_dim = 24\n",
    "n_hidden = 128\n",
    "dim_groups = 2\n",
    "\n",
    "model = Sequential([\n",
    "    Embedding(vocab_size, n_emb_dim),\n",
    "    FlattenConsecutive(dim_groups), Linear(n_emb_dim * dim_groups, n_hidden, bias=False), BatchNorm1D(n_hidden), Tanh(),\n",
    "    FlattenConsecutive(dim_groups), Linear(n_hidden * dim_groups, n_hidden, bias=False), BatchNorm1D(n_hidden), Tanh(),\n",
    "    FlattenConsecutive(dim_groups), Linear(n_hidden * dim_groups, n_hidden, bias=False), BatchNorm1D(n_hidden), Tanh(),\n",
    "    Linear(n_hidden  , vocab_size)\n",
    "])\n",
    "\n",
    "with torch.no_grad():\n",
    "    # last layer: make less confident\n",
    "    model.layers[-1].weight *= 0.1 \n",
    "            \n",
    "parameters = model.parameters() \n",
    "print(sum(p.nelement() for p in parameters)) # number of params\n",
    "\n",
    "# require grad\n",
    "for p in parameters:\n",
    "    p.requires_grad = True"
   ]
  },
  {
   "cell_type": "code",
   "execution_count": 78,
   "id": "753fb527",
   "metadata": {},
   "outputs": [],
   "source": [
    "total_epochs = 0\n",
    "ud = []\n",
    "lossi = []"
   ]
  },
  {
   "cell_type": "code",
   "execution_count": 79,
   "id": "723c33b7",
   "metadata": {},
   "outputs": [],
   "source": [
    "epoch = 200000\n",
    "learning_rate = 0.1\n",
    "decay = 0.1\n",
    "batch_size = 32\n",
    "decay_threshold = 150000\n",
    "\n",
    "for layer in model.layers:\n",
    "    layer.training = True"
   ]
  },
  {
   "cell_type": "code",
   "execution_count": null,
   "id": "87afb9d4",
   "metadata": {},
   "outputs": [
    {
     "name": "stdout",
     "output_type": "stream",
     "text": [
      "epoch:      0 batch:       0/ 200000 loss: 3.298\n",
      "epoch:  10000 batch:   10000/ 200000 loss: 2.208\n",
      "epoch:  20000 batch:   20000/ 200000 loss: 2.228\n",
      "epoch:  30000 batch:   30000/ 200000 loss: 1.694\n",
      "epoch:  40000 batch:   40000/ 200000 loss: 2.202\n",
      "epoch:  50000 batch:   50000/ 200000 loss: 2.582\n",
      "epoch:  60000 batch:   60000/ 200000 loss: 2.017\n",
      "epoch:  70000 batch:   70000/ 200000 loss: 2.276\n",
      "epoch:  80000 batch:   80000/ 200000 loss: 1.788\n",
      "epoch:  90000 batch:   90000/ 200000 loss: 1.785\n",
      "epoch: 100000 batch:  100000/ 200000 loss: 1.730\n",
      "epoch: 110000 batch:  110000/ 200000 loss: 2.063\n"
     ]
    }
   ],
   "source": [
    "for i in range(epoch):\n",
    "    \n",
    "    # minibatch contstruct, faster although not exact\n",
    "    ix = torch.randint(0, X_train.shape[0], (batch_size, ))\n",
    "    Xb, Yb = X_train[ix], Y_train[ix]\n",
    "    \n",
    "    logits = model(Xb)                 \n",
    "    loss = F.cross_entropy(logits, Yb)\n",
    "\n",
    "    # backward pass\n",
    "    for p in parameters:\n",
    "        p.grad = None # zero_grade\n",
    "    loss.backward()\n",
    "    \n",
    "    # update and learning rate decay\n",
    "    for p in parameters:\n",
    "        p.data += -learning_rate * p.grad\n",
    "        \n",
    "     \n",
    "    # track stats\n",
    "    if i % 10000 == 0 or i == epoch-1:\n",
    "        print(f\"epoch: {total_epochs:6} batch: {i:7}/{epoch:7} loss: {loss.item():5.3f}\")\n",
    "\n",
    "    lossi.append(loss.log10().item())\n",
    "    with torch.no_grad():\n",
    "        ud.append([((learning_rate*p.grad).std() / p.data.std()).log10().item() for p in parameters])\n",
    "        \n",
    "    # decay learning rate\n",
    "    if total_epochs > 0 and total_epochs%decay_threshold == 0:\n",
    "        learning_rate *= decay\n",
    "        \n",
    "    total_epochs += 1"
   ]
  },
  {
   "cell_type": "code",
   "execution_count": null,
   "id": "e6847938",
   "metadata": {},
   "outputs": [],
   "source": [
    "print(len(lossi))\n",
    "r = len(lossi)%1000\n",
    "plt.plot(torch.tensor(lossi[r:]).view(-1, 1000).mean(1))"
   ]
  },
  {
   "cell_type": "code",
   "execution_count": null,
   "id": "6f3f00dc",
   "metadata": {},
   "outputs": [],
   "source": [
    "@torch.no_grad()\n",
    "def split_loss(split):\n",
    "    x,y = {\n",
    "        'train': (X_train, Y_train),\n",
    "        'valid': (X_dev, Y_dev),\n",
    "        'test': (X_test, Y_test),\n",
    "    }[split]\n",
    "    \n",
    "    # Evaluate parameters\n",
    "    logits = model(x)\n",
    "    loss = F.cross_entropy(logits, y)\n",
    "    print(split, loss.item())\n",
    "    \n",
    "for layer in model.layers:\n",
    "    layer.training = False\n",
    "split_loss('train')\n",
    "split_loss('valid')"
   ]
  },
  {
   "cell_type": "markdown",
   "id": "60d3f802",
   "metadata": {},
   "source": [
    "# Playground"
   ]
  },
  {
   "cell_type": "code",
   "execution_count": 62,
   "id": "55045c91",
   "metadata": {},
   "outputs": [
    {
     "data": {
      "text/plain": [
       "torch.Size([4, 4, 20])"
      ]
     },
     "execution_count": 62,
     "metadata": {},
     "output_type": "execute_result"
    }
   ],
   "source": [
    "e = torch.rand(4, 8, 10)\n",
    "explicit = torch.cat([e[:, ::2, :], e[:, 1::2, :]], dim=2)\n",
    "explicit.shape"
   ]
  },
  {
   "cell_type": "code",
   "execution_count": 64,
   "id": "cc29da5e",
   "metadata": {},
   "outputs": [
    {
     "data": {
      "text/plain": [
       "True"
      ]
     },
     "execution_count": 64,
     "metadata": {},
     "output_type": "execute_result"
    }
   ],
   "source": [
    "(e.view(4, 4, 20) == explicit).all().item()"
   ]
  },
  {
   "cell_type": "code",
   "execution_count": 75,
   "id": "a0c39523",
   "metadata": {},
   "outputs": [
    {
     "name": "stdout",
     "output_type": "stream",
     "text": [
      "torch.Size([4, 8])\n"
     ]
    },
    {
     "data": {
      "text/plain": [
       "tensor([[ 0,  0,  0,  0,  0,  0, 12,  5],\n",
       "        [ 0,  0,  0,  0,  0,  2, 18,  5],\n",
       "        [ 0,  0,  0,  0,  5, 13, 13,  5],\n",
       "        [ 0,  0,  0, 20,  8,  1, 14,  9]])"
      ]
     },
     "execution_count": 75,
     "metadata": {},
     "output_type": "execute_result"
    }
   ],
   "source": [
    "ix = torch.randint(0, X_train.shape[0], (4,))\n",
    "Xb, Yb = X_train[ix], Y_train[ix]\n",
    "logits = model(Xb)\n",
    "print(Xb.shape)\n",
    "Xb"
   ]
  },
  {
   "cell_type": "code",
   "execution_count": 76,
   "id": "4d9a22eb",
   "metadata": {},
   "outputs": [
    {
     "name": "stdout",
     "output_type": "stream",
     "text": [
      "Embedding : (4, 8, 10)\n",
      "FlattenConsecutive : (4, 4, 20)\n",
      "Linear : (4, 4, 200)\n",
      "BatchNorm1D : (4, 4, 200)\n",
      "Tanh : (4, 4, 200)\n",
      "FlattenConsecutive : (4, 2, 400)\n",
      "Linear : (4, 2, 200)\n",
      "BatchNorm1D : (4, 2, 200)\n",
      "Tanh : (4, 2, 200)\n",
      "FlattenConsecutive : (4, 400)\n",
      "Linear : (4, 200)\n",
      "BatchNorm1D : (4, 200)\n",
      "Tanh : (4, 200)\n",
      "Linear : (4, 27)\n"
     ]
    }
   ],
   "source": [
    "for layer in model.layers:\n",
    "    print(layer.__class__.__name__, \":\", tuple(layer.out.shape))"
   ]
  },
  {
   "cell_type": "code",
   "execution_count": null,
   "id": "f379edfe",
   "metadata": {},
   "outputs": [],
   "source": [
    "model.layers[3].running_mean.shape"
   ]
  },
  {
   "cell_type": "markdown",
   "id": "c7a03295",
   "metadata": {},
   "source": [
    "# Sampling"
   ]
  },
  {
   "cell_type": "code",
   "execution_count": null,
   "id": "3925c6cd",
   "metadata": {},
   "outputs": [],
   "source": [
    "for _ in range(20):\n",
    "    out = []\n",
    "    context = [0] * block_size\n",
    "    while True:\n",
    "        logits = model(torch.tensor([context]))\n",
    "        probs = F.softmax(logits, dim=1) \n",
    "        \n",
    "        # sample\n",
    "        index = torch.multinomial(probs, num_samples=1).item()\n",
    "        \n",
    "        # shift context window\n",
    "        context = context[1:] + [index]\n",
    "        if index == 0:\n",
    "            break\n",
    "            \n",
    "        out.append(index)\n",
    "    \n",
    "    print(''.join(ind_to_str[i] for i in out))"
   ]
  },
  {
   "cell_type": "markdown",
   "id": "450c2511",
   "metadata": {},
   "source": [
    "--------------\n",
    "\n",
    "# loss log\n",
    "\n",
    "1. Default start with \n",
    "\n",
    "      - train 2.016745090484619\n",
    "      - valid 2.3248491287231445\n",
    "\n",
    "    ```\n",
    "    block_size = 3\n",
    "    n_emb_dim = 10\n",
    "    n_hidden = 200\n",
    "    input_size = n_emb_dim * block_size\n",
    "\n",
    "    C = torch.randn((vocab_size, n_emb_dim))\n",
    "\n",
    "    layers = [\n",
    "        Linear(input_size, n_hidden, bias=False), BatchNorm1D(n_hidden), Tanh(),\n",
    "        Linear(n_hidden  , vocab_size)\n",
    "    ]\n",
    "    total_epochs = 0\n",
    "    ud = []\n",
    "    lossi = []\n",
    "    epoch = 200000\n",
    "    learning_rate = 0.1\n",
    "    decay = 0.1\n",
    "    batch_size = 32\n",
    "    decay_threshold = 100000\n",
    "    ```\n",
    "\n",
    " \n",
    "2. Add in model and more layers. I'm concerned here as my numbers are looking more divergent than his despite using the same set up and seeds.  \n",
    "\n",
    "      - train 1.9769409894943237\n",
    "      - valid 2.3193278312683105\n",
    "    \n",
    "     During step 3 I found the bug I needed to restart and rerun my notebook to see it. \n",
    "      - train 2.0587270259857178\n",
    "      - valid 2.1071510314941406\n",
    "     \n",
    "\n",
    "\n",
    "    ```\n",
    "    decay_threshold = 150000\n",
    "    model = Sequential([\n",
    "        Embedding(vocab_size, n_emb_dim),\n",
    "        Flatten(),\n",
    "        Linear(input_size, n_hidden, bias=False), BatchNorm1D(n_hidden), Tanh(),\n",
    "        Linear(n_hidden  , vocab_size)\n",
    "    ])\n",
    "    ```\n",
    "   \n",
    "   \n",
    "3. Up the context\n",
    "\n",
    "    - train 1.9163451194763184\n",
    "    - valid 2.034252166748047\n",
    "    \n",
    "     ``` \n",
    "     block_size = 8\n",
    "     \n",
    "     ```\n",
    "     \n",
    "4. Go to wavenet style\n",
    "    Changed Flatten -> FlattenConsecutive for 3 dimensions, 8 char. n_hidden changed to match the 22k params\n",
    "    \n",
    "\n",
    "    ```\n",
    "    n_hidden = 68\n",
    "    model = Sequential([\n",
    "    Embedding(vocab_size, n_emb_dim),\n",
    "    FlattenConsecutive(dim_groups), Linear(n_emb_dim * dim_groups, n_hidden, bias=False), \n",
    "    BatchNorm1D(n_hidden), Tanh(),\n",
    "    FlattenConsecutive(dim_groups), Linear(n_hidden * dim_groups, n_hidden, bias=False), \n",
    "    BatchNorm1D(n_hidden), Tanh(),\n",
    "    FlattenConsecutive(dim_groups), Linear(n_hidden * dim_groups, n_hidden, bias=False), \n",
    "    BatchNorm1D(n_hidden), Tanh(),\n",
    "    Linear(n_hidden  , vocab_size)])\n",
    "    ```\n",
    "\n",
    "5. Fix batch norm\n",
    "    \n",
    "    This broadcast correctly but didn't do what we wanted it to do. (you can see this by going step by step or looking at the model.layers[3].running_mean.shape. It's [1, 4, 68] instead of the desired 1 dim [1, 1, 68]\n",
    "    \n",
    "    didn't run the model as it takes a while, but tested on a smaller. We expect a tiny increase \n",
    "    \n",
    "    \n",
    "6. Increase model size \n",
    "\n",
    "\n",
    "\n",
    "--------------"
   ]
  },
  {
   "cell_type": "code",
   "execution_count": null,
   "id": "b9f2ebf0",
   "metadata": {},
   "outputs": [],
   "source": []
  }
 ],
 "metadata": {
  "kernelspec": {
   "display_name": "ml_learning",
   "language": "python",
   "name": "ml_learning"
  },
  "language_info": {
   "codemirror_mode": {
    "name": "ipython",
    "version": 3
   },
   "file_extension": ".py",
   "mimetype": "text/x-python",
   "name": "python",
   "nbconvert_exporter": "python",
   "pygments_lexer": "ipython3",
   "version": "3.11.7"
  }
 },
 "nbformat": 4,
 "nbformat_minor": 5
}
