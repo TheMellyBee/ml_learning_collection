{
 "cells": [
  {
   "cell_type": "markdown",
   "id": "b2a61edc",
   "metadata": {},
   "source": [
    "# Continuation of Makemore\n",
    "This is based on the following paper by [Bengio, et all](https://www.jmlr.org/papers/volume3/bengio03a/bengio03a.pdf) and the lovely YouTube series by Andrej Karpathy\n",
    "\n",
    "In the last we made a bigram model through counts and a simple 1 layer NN. This time we will be following this paper to make a version of an MLP. \n",
    "\n",
    "I will be building out a similar to [this tool](https://github.com/karpathy/makemore/tree/master) from scratch. Note that I will be following the tutorial doing it step by step not looking at the final repo. \n",
    "\n",
    "Over all I will work through these papers:\n",
    "- Bigram (one character predicts the next one with a lookup table of counts)\n",
    "- MLP, following [Bengio et al. 2003](https://www.jmlr.org/papers/volume3/bengio03a/bengio03a.pdf)\n",
    "- CNN, following [DeepMind WaveNet 2016](https://arxiv.org/abs/1609.03499) (in progress...)\n",
    "- RNN, following [Mikolov et al. 2010](https://www.fit.vutbr.cz/research/groups/speech/publi/2010/mikolov_interspeech2010_IS100722.pdf)\n",
    "- LSTM, following [Graves et al. 2014](https://arxiv.org/abs/1308.0850)\n",
    "- GRU, following [Kyunghyun Cho et al. 2014](https://arxiv.org/abs/1409.1259)\n",
    "- Transformer, following [Vaswani et al. 2017](https://arxiv.org/abs/1706.03762)"
   ]
  },
  {
   "cell_type": "code",
   "execution_count": 20,
   "id": "f0e23c5b",
   "metadata": {},
   "outputs": [],
   "source": [
    "import torch\n",
    "import math\n",
    "import numpy as np\n",
    "import matplotlib.pyplot as plt\n",
    "import random\n",
    "import torch.nn.functional as F\n",
    "%matplotlib inline"
   ]
  },
  {
   "cell_type": "code",
   "execution_count": 21,
   "id": "d7278c86",
   "metadata": {},
   "outputs": [
    {
     "name": "stdout",
     "output_type": "stream",
     "text": [
      "Total number of words: 32033\n",
      "Smallest Word is 2 char while the largest is 15 char\n"
     ]
    }
   ],
   "source": [
    "words = open(\"data/names.txt\", \"r\").read().splitlines()\n",
    "print(f'Total number of words: {len(words)}')\n",
    "smallest = min(len(w) for w in words)\n",
    "largest = max(len(w) for w in words)\n",
    "print(f'Smallest Word is {smallest} char while the largest is {largest} char')"
   ]
  },
  {
   "cell_type": "code",
   "execution_count": 22,
   "id": "09110dac",
   "metadata": {},
   "outputs": [
    {
     "name": "stdout",
     "output_type": "stream",
     "text": [
      "{1: 'a', 2: 'b', 3: 'c', 4: 'd', 5: 'e', 6: 'f', 7: 'g', 8: 'h', 9: 'i', 10: 'j', 11: 'k', 12: 'l', 13: 'm', 14: 'n', 15: 'o', 16: 'p', 17: 'q', 18: 'r', 19: 's', 20: 't', 21: 'u', 22: 'v', 23: 'w', 24: 'x', 25: 'y', 26: 'z', 0: '.'}\n"
     ]
    }
   ],
   "source": [
    "# build the covabulary of chars and mappings \n",
    "chars = sorted(list(set(''.join(words))))\n",
    "str_to_ind = {s:i + 1 for i,s in enumerate(chars)}\n",
    "str_to_ind['.'] = 0\n",
    "ind_to_str = {i:s for s,i in str_to_ind.items()}\n",
    "print(ind_to_str)"
   ]
  },
  {
   "cell_type": "code",
   "execution_count": 23,
   "id": "f4d20d46",
   "metadata": {},
   "outputs": [
    {
     "name": "stdout",
     "output_type": "stream",
     "text": [
      "emma\n",
      "... ---> e\n",
      "..e ---> m\n",
      ".em ---> m\n",
      "emm ---> a\n",
      "mma ---> .\n",
      "olivia\n",
      "... ---> o\n",
      "..o ---> l\n",
      ".ol ---> i\n",
      "oli ---> v\n",
      "liv ---> i\n",
      "ivi ---> a\n",
      "via ---> .\n",
      "ava\n",
      "... ---> a\n",
      "..a ---> v\n",
      ".av ---> a\n",
      "ava ---> .\n",
      "isabella\n",
      "... ---> i\n",
      "..i ---> s\n",
      ".is ---> a\n",
      "isa ---> b\n",
      "sab ---> e\n",
      "abe ---> l\n",
      "bel ---> l\n",
      "ell ---> a\n",
      "lla ---> .\n",
      "sophia\n",
      "... ---> s\n",
      "..s ---> o\n",
      ".so ---> p\n",
      "sop ---> h\n",
      "oph ---> i\n",
      "phi ---> a\n",
      "hia ---> .\n"
     ]
    }
   ],
   "source": [
    "block_size = 3 # this is the n for the n-gram (how big is the window to predict the next)\n",
    "X, Y = [], []\n",
    "for word in words[:5]:\n",
    "    print(word)\n",
    "    context = [0] * block_size # padded\n",
    "    for ch in word + '.':\n",
    "        ind = str_to_ind[ch]\n",
    "        X.append(context)\n",
    "        Y.append(ind)\n",
    "        print(''.join(ind_to_str[i] for i in context), '--->', ind_to_str[ind])\n",
    "        context = context[1:] + [ind] # crop and append\n",
    "        \n",
    "X = torch.tensor(X)\n",
    "Y = torch.tensor(Y)"
   ]
  },
  {
   "cell_type": "code",
   "execution_count": 24,
   "id": "86e03569",
   "metadata": {},
   "outputs": [
    {
     "data": {
      "text/plain": [
       "(torch.Size([32, 3]), torch.int64, torch.Size([32]), torch.int64)"
      ]
     },
     "execution_count": 24,
     "metadata": {},
     "output_type": "execute_result"
    }
   ],
   "source": [
    "X.shape, X.dtype, Y.shape, Y.dtype"
   ]
  },
  {
   "cell_type": "code",
   "execution_count": 25,
   "id": "a2517b24",
   "metadata": {},
   "outputs": [],
   "source": [
    "C = torch.randn((27, 2))"
   ]
  },
  {
   "cell_type": "code",
   "execution_count": 26,
   "id": "093cd395",
   "metadata": {},
   "outputs": [
    {
     "data": {
      "text/plain": [
       "tensor([-1.0268,  0.9244])"
      ]
     },
     "execution_count": 26,
     "metadata": {},
     "output_type": "execute_result"
    }
   ],
   "source": [
    "C[5]"
   ]
  },
  {
   "cell_type": "code",
   "execution_count": 27,
   "id": "7d14a7c3",
   "metadata": {},
   "outputs": [
    {
     "data": {
      "text/plain": [
       "torch.Size([32, 3, 2])"
      ]
     },
     "execution_count": 27,
     "metadata": {},
     "output_type": "execute_result"
    }
   ],
   "source": [
    "C[X].shape"
   ]
  },
  {
   "cell_type": "code",
   "execution_count": 28,
   "id": "c7da3cd9",
   "metadata": {},
   "outputs": [
    {
     "data": {
      "text/plain": [
       "torch.Size([32, 3, 2])"
      ]
     },
     "execution_count": 28,
     "metadata": {},
     "output_type": "execute_result"
    }
   ],
   "source": [
    "emb = C[X]\n",
    "emb.shape"
   ]
  },
  {
   "cell_type": "code",
   "execution_count": 29,
   "id": "bc286f5d",
   "metadata": {},
   "outputs": [
    {
     "data": {
      "text/plain": [
       "torch.Size([32, 6])"
      ]
     },
     "execution_count": 29,
     "metadata": {},
     "output_type": "execute_result"
    }
   ],
   "source": [
    "# this is a way to niavely concact\n",
    "torch.cat([emb[:, 0, :], emb[:, 1, :], emb[:, 2, :]], 1).shape "
   ]
  },
  {
   "cell_type": "code",
   "execution_count": 30,
   "id": "14644a43",
   "metadata": {},
   "outputs": [
    {
     "data": {
      "text/plain": [
       "torch.Size([32, 6])"
      ]
     },
     "execution_count": 30,
     "metadata": {},
     "output_type": "execute_result"
    }
   ],
   "source": [
    "# This does the same ast he above but generalized\n",
    "torch.cat(torch.unbind(emb, 1), 1).shape"
   ]
  },
  {
   "cell_type": "code",
   "execution_count": 31,
   "id": "6732dd7f",
   "metadata": {},
   "outputs": [
    {
     "data": {
      "text/plain": [
       "torch.Size([32, 6])"
      ]
     },
     "execution_count": 31,
     "metadata": {},
     "output_type": "execute_result"
    }
   ],
   "source": [
    "# it can be more effecient to just get the view though\n",
    "emb.view(32,6).shape"
   ]
  },
  {
   "cell_type": "code",
   "execution_count": 32,
   "id": "d53349f9",
   "metadata": {},
   "outputs": [
    {
     "data": {
      "text/plain": [
       "tensor([[True, True, True, True, True, True],\n",
       "        [True, True, True, True, True, True],\n",
       "        [True, True, True, True, True, True],\n",
       "        [True, True, True, True, True, True],\n",
       "        [True, True, True, True, True, True],\n",
       "        [True, True, True, True, True, True],\n",
       "        [True, True, True, True, True, True],\n",
       "        [True, True, True, True, True, True],\n",
       "        [True, True, True, True, True, True],\n",
       "        [True, True, True, True, True, True],\n",
       "        [True, True, True, True, True, True],\n",
       "        [True, True, True, True, True, True],\n",
       "        [True, True, True, True, True, True],\n",
       "        [True, True, True, True, True, True],\n",
       "        [True, True, True, True, True, True],\n",
       "        [True, True, True, True, True, True],\n",
       "        [True, True, True, True, True, True],\n",
       "        [True, True, True, True, True, True],\n",
       "        [True, True, True, True, True, True],\n",
       "        [True, True, True, True, True, True],\n",
       "        [True, True, True, True, True, True],\n",
       "        [True, True, True, True, True, True],\n",
       "        [True, True, True, True, True, True],\n",
       "        [True, True, True, True, True, True],\n",
       "        [True, True, True, True, True, True],\n",
       "        [True, True, True, True, True, True],\n",
       "        [True, True, True, True, True, True],\n",
       "        [True, True, True, True, True, True],\n",
       "        [True, True, True, True, True, True],\n",
       "        [True, True, True, True, True, True],\n",
       "        [True, True, True, True, True, True],\n",
       "        [True, True, True, True, True, True]])"
      ]
     },
     "execution_count": 32,
     "metadata": {},
     "output_type": "execute_result"
    }
   ],
   "source": [
    "emb.view(32,6) == torch.cat(torch.unbind(emb, 1), 1)"
   ]
  },
  {
   "cell_type": "code",
   "execution_count": 33,
   "id": "27811e85",
   "metadata": {},
   "outputs": [
    {
     "data": {
      "text/plain": [
       "True"
      ]
     },
     "execution_count": 33,
     "metadata": {},
     "output_type": "execute_result"
    }
   ],
   "source": [
    "emb.view(32,6).shape == emb.view(-1,6).shape"
   ]
  },
  {
   "cell_type": "code",
   "execution_count": 34,
   "id": "d94e3d22",
   "metadata": {},
   "outputs": [],
   "source": [
    "W1 = torch.randn((6,100))\n",
    "b1 = torch.randn(100)"
   ]
  },
  {
   "cell_type": "code",
   "execution_count": 35,
   "id": "15345fc2",
   "metadata": {},
   "outputs": [
    {
     "data": {
      "text/plain": [
       "tensor([[-0.0046,  0.5415, -0.8243,  ...,  0.9921, -0.2344, -0.9925],\n",
       "        [-0.4792,  0.4792, -0.2265,  ...,  1.0000,  0.9998, -0.9969],\n",
       "        [-0.7441, -0.9761,  0.2758,  ..., -0.9810, -0.7232,  0.9522],\n",
       "        ...,\n",
       "        [ 0.9931,  0.9473, -0.8880,  ...,  0.9991, -0.9975, -0.9998],\n",
       "        [-0.5424,  0.8042, -0.7782,  ...,  1.0000,  1.0000, -0.9988],\n",
       "        [-0.9131, -0.9947,  0.2924,  ..., -0.9949,  0.4160,  0.9870]])"
      ]
     },
     "execution_count": 35,
     "metadata": {},
     "output_type": "execute_result"
    }
   ],
   "source": [
    "# Broadcast check\n",
    "# 32, 100\n",
    "#  1, 100 \n",
    "# Looks good\n",
    "\n",
    "hidden = torch.tanh(emb.view(-1, 6) @ W1 + b1)\n",
    "hidden"
   ]
  },
  {
   "cell_type": "code",
   "execution_count": 36,
   "id": "5441568c",
   "metadata": {},
   "outputs": [],
   "source": [
    "W2 = torch.randn((100,27))\n",
    "b2 = torch.randn(27)"
   ]
  },
  {
   "cell_type": "code",
   "execution_count": 37,
   "id": "88b6fab4",
   "metadata": {},
   "outputs": [
    {
     "data": {
      "text/plain": [
       "torch.Size([32, 27])"
      ]
     },
     "execution_count": 37,
     "metadata": {},
     "output_type": "execute_result"
    }
   ],
   "source": [
    "logits = hidden @ W2 + b2\n",
    "logits.shape"
   ]
  },
  {
   "cell_type": "code",
   "execution_count": 38,
   "id": "04b10308",
   "metadata": {},
   "outputs": [],
   "source": [
    "# soft max\n",
    "counts = logits.exp()\n",
    "prob = counts/counts.sum(1, keepdims=True)"
   ]
  },
  {
   "cell_type": "code",
   "execution_count": 39,
   "id": "7bb15358",
   "metadata": {},
   "outputs": [
    {
     "data": {
      "text/plain": [
       "torch.Size([32, 27])"
      ]
     },
     "execution_count": 39,
     "metadata": {},
     "output_type": "execute_result"
    }
   ],
   "source": [
    "prob.shape"
   ]
  },
  {
   "cell_type": "code",
   "execution_count": 40,
   "id": "0a6356e5",
   "metadata": {},
   "outputs": [
    {
     "data": {
      "text/plain": [
       "tensor([ 5, 13, 13,  1,  0, 15, 12,  9, 22,  9,  1,  0,  1, 22,  1,  0,  9, 19,\n",
       "         1,  2,  5, 12, 12,  1,  0, 19, 15, 16,  8,  9,  1,  0])"
      ]
     },
     "execution_count": 40,
     "metadata": {},
     "output_type": "execute_result"
    }
   ],
   "source": [
    "Y"
   ]
  },
  {
   "cell_type": "code",
   "execution_count": 41,
   "id": "6fbb6455",
   "metadata": {},
   "outputs": [
    {
     "data": {
      "text/plain": [
       "tensor(25.0965)"
      ]
     },
     "execution_count": 41,
     "metadata": {},
     "output_type": "execute_result"
    }
   ],
   "source": [
    "loss = - prob[torch.arange(32), Y].log().mean()\n",
    "loss"
   ]
  },
  {
   "cell_type": "code",
   "execution_count": 42,
   "id": "7f578dab",
   "metadata": {},
   "outputs": [
    {
     "data": {
      "text/plain": [
       "tensor(25.0965)"
      ]
     },
     "execution_count": 42,
     "metadata": {},
     "output_type": "execute_result"
    }
   ],
   "source": [
    "# Above is uneffecient and can misbehave numerically. (with high positive number with exp floating point error) Use cross_entropy\n",
    "# interestingly they get around this by taking the max(logits) and subtracts it from the logits before they are .exp()\n",
    "F.cross_entropy(logits, Y)"
   ]
  },
  {
   "cell_type": "code",
   "execution_count": 99,
   "id": "c060f5e7",
   "metadata": {},
   "outputs": [],
   "source": [
    "# ------- re-write cleaner -----------"
   ]
  },
  {
   "cell_type": "code",
   "execution_count": 132,
   "id": "0851f19a",
   "metadata": {},
   "outputs": [],
   "source": [
    "block_size = 3 # this is the n for the n-gram (how big is the window to predict the next)\n",
    "X, Y = [], []\n",
    "for word in words:\n",
    "    context = [0] * block_size # padded\n",
    "    for ch in word + '.':\n",
    "        ind = str_to_ind[ch]\n",
    "        X.append(context)\n",
    "        Y.append(ind)\n",
    "        context = context[1:] + [ind] # crop and append\n",
    "        \n",
    "X = torch.tensor(X)\n",
    "Y = torch.tensor(Y)"
   ]
  },
  {
   "cell_type": "code",
   "execution_count": 133,
   "id": "64abd5de",
   "metadata": {},
   "outputs": [
    {
     "data": {
      "text/plain": [
       "(torch.Size([228146, 3]), torch.int64, torch.Size([228146]), torch.int64)"
      ]
     },
     "execution_count": 133,
     "metadata": {},
     "output_type": "execute_result"
    }
   ],
   "source": [
    "X.shape, X.dtype, Y.shape, Y.dtype # dataset"
   ]
  },
  {
   "cell_type": "code",
   "execution_count": 134,
   "id": "b46666ed",
   "metadata": {},
   "outputs": [],
   "source": [
    "total_epochs = 0\n",
    "g = torch.Generator().manual_seed(2147483647) # reproducibility \n",
    "C = torch.randn((27, 2), generator=g)\n",
    "W1 = torch.randn((6,100), generator=g)\n",
    "b1 = torch.randn(100, generator=g)\n",
    "W2 = torch.randn((100,27), generator=g)\n",
    "b2 = torch.randn(27, generator=g)\n",
    "parameters = [C, W1, b1, W2, b2]\n",
    "\n",
    "\n",
    "for p in parameters:\n",
    "    p.requires_grad = True"
   ]
  },
  {
   "cell_type": "code",
   "execution_count": 135,
   "id": "65fc17dc",
   "metadata": {},
   "outputs": [],
   "source": [
    "lre = torch.linspace(-3, 0, 1000)\n",
    "lrs = 10**lre"
   ]
  },
  {
   "cell_type": "code",
   "execution_count": 144,
   "id": "e15dab69",
   "metadata": {},
   "outputs": [
    {
     "name": "stdout",
     "output_type": "stream",
     "text": [
      "total epochs processed: 63000 with total_loss: 2.3767640590667725\n"
     ]
    }
   ],
   "source": [
    "epoch = 10000\n",
    "#lri = []\n",
    "#lossi = []\n",
    "learning_rate = 0.1\n",
    "for i in range(epoch):\n",
    "    \n",
    "    # minibatch contstruct, faster although not exact\n",
    "    ix = torch.randint(0, X.shape[0], (32, ))\n",
    "    \n",
    "    # forward\n",
    "    emb = C[X[ix]]                                 # Size([32, 3, 2])\n",
    "    hidden = torch.tanh(emb.view(-1, 6) @ W1 + b1) # Size([32, 100])\n",
    "    logits = hidden @ W2 + b2                      # Size([32, 27])\n",
    "    loss = F.cross_entropy(logits, Y[ix])\n",
    "    #print(loss.item())\n",
    "\n",
    "    # backward\n",
    "    for p in parameters:\n",
    "        p.grad = None # zero_grade\n",
    "        \n",
    "    loss.backward()\n",
    "    # update\n",
    "    #learning_rate = lrs[i]\n",
    "    learning_rate = 0.0001 # for decay\n",
    "    for p in parameters:\n",
    "        p.data += -learning_rate * p.grad\n",
    "    \n",
    "    # track stats\n",
    "    total_epochs += 1\n",
    "    #lri.append(lre[i])\n",
    "    #lossi.append(loss.item())\n",
    "\n",
    "emb = C[X]                                    # Size([32, 3, 2])\n",
    "hidden = torch.tanh(emb.view(-1, 6) @ W1 + b1) # Size([32, 100])\n",
    "logits = hidden @ W2 + b2                      # Size([32, 27])\n",
    "total_loss = F.cross_entropy(logits, Y)\n",
    "total_loss\n",
    "print(f\"total epochs processed: {total_epochs} with total_loss: {total_loss}\")"
   ]
  },
  {
   "cell_type": "code",
   "execution_count": 131,
   "id": "23dc9497",
   "metadata": {},
   "outputs": [
    {
     "data": {
      "text/plain": [
       "[<matplotlib.lines.Line2D at 0x122d8f2d0>]"
      ]
     },
     "execution_count": 131,
     "metadata": {},
     "output_type": "execute_result"
    },
    {
     "data": {
      "image/png": "[encoded data removed]",
      "text/plain": [
       "<Figure size 640x480 with 1 Axes>"
      ]
     },
     "metadata": {},
     "output_type": "display_data"
    }
   ],
   "source": [
    "plt.plot(lri, lossi)"
   ]
  },
  {
   "cell_type": "markdown",
   "id": "0b420e6e",
   "metadata": {},
   "source": [
    "This shows 10**-1 or 0.1 wis a good learning rate"
   ]
  },
  {
   "cell_type": "markdown",
   "id": "36319335",
   "metadata": {},
   "source": [
    "# Let's do it again but more respectable"
   ]
  },
  {
   "cell_type": "markdown",
   "id": "20a627e8",
   "metadata": {},
   "source": [
    "Now let's do it with a train/validation (or dev)/test split of 80/10/10 (you don't want to do test very often this is our most valued)\n",
    "\n",
    "train - changes your weights\n",
    "dev - changes your parameters"
   ]
  },
  {
   "cell_type": "code",
   "execution_count": 248,
   "id": "c64555cf",
   "metadata": {},
   "outputs": [
    {
     "name": "stdout",
     "output_type": "stream",
     "text": [
      "torch.Size([182484, 4]) torch.Size([182484])\n",
      "torch.Size([22869, 4]) torch.Size([22869])\n",
      "torch.Size([22793, 4]) torch.Size([22793])\n"
     ]
    }
   ],
   "source": [
    "def build_dataset(words, block_size=3):\n",
    "    X, Y = [], []\n",
    "    for word in words:\n",
    "        context = [0] * block_size # padded\n",
    "        for ch in word + '.':\n",
    "            ind = str_to_ind[ch]\n",
    "            X.append(context)\n",
    "            Y.append(ind)\n",
    "            context = context[1:] + [ind] # crop and append\n",
    "\n",
    "    X = torch.tensor(X)\n",
    "    Y = torch.tensor(Y)\n",
    "    print(X.shape, Y.shape)\n",
    "    return X, Y\n",
    "\n",
    "import random\n",
    "random.seed(42)\n",
    "random.shuffle(words)\n",
    "n1 = int(0.8 * len(words))\n",
    "n2 = int(0.9 * len(words))\n",
    "\n",
    "block_size=4\n",
    "X_train, Y_train = build_dataset(words[:n1], block_size=4)\n",
    "X_dev, Y_dev = build_dataset(words[n1:n2], block_size=4)\n",
    "X_test, Y_test = build_dataset(words[n2:], block_size=4)"
   ]
  },
  {
   "cell_type": "code",
   "execution_count": 249,
   "id": "97a9d440",
   "metadata": {},
   "outputs": [
    {
     "data": {
      "text/plain": [
       "(torch.Size([182484, 4]), torch.int64, torch.Size([182484]), torch.int64)"
      ]
     },
     "execution_count": 249,
     "metadata": {},
     "output_type": "execute_result"
    }
   ],
   "source": [
    "X_train.shape, X_train.dtype, Y_train.shape, Y_train.dtype # dataset"
   ]
  },
  {
   "cell_type": "code",
   "execution_count": 299,
   "id": "bd03bc45",
   "metadata": {},
   "outputs": [],
   "source": [
    "total_epochs = 0\n",
    "stepi = []\n",
    "lossi = []\n",
    "dimensions = 10\n",
    "hidden_nodes = 500\n",
    "input_size = dimensions*block_size\n",
    "g = torch.Generator().manual_seed(2147483647) # reproducibility \n",
    "C = torch.randn((len(str_to_ind), dimensions), generator=g)\n",
    "W1 = torch.randn((input_size, hidden_nodes), generator=g)\n",
    "b1 = torch.randn(hidden_nodes, generator=g)\n",
    "W2 = torch.randn((hidden_nodes,27), generator=g)\n",
    "b2 = torch.randn(len(str_to_ind), generator=g)\n",
    "parameters = [C, W1, b1, W2, b2]\n",
    "\n",
    "\n",
    "for p in parameters:\n",
    "    p.requires_grad = True"
   ]
  },
  {
   "cell_type": "code",
   "execution_count": 303,
   "id": "1d670e75",
   "metadata": {},
   "outputs": [
    {
     "name": "stdout",
     "output_type": "stream",
     "text": [
      "epochs number: 200001 with average of last 10 loss: 0.3596505278926547\n",
      "epochs number: 204001 with average of last 10 loss: 0.35910193704050364\n",
      "epochs number: 208001 with average of last 10 loss: 0.3585584316508151\n",
      "epochs number: 212001 with average of last 10 loss: 0.3580352253751669\n",
      "epochs number: 216001 with average of last 10 loss: 0.3575246383639531\n",
      "epochs number: 220001 with average of last 10 loss: 0.3570147976106872\n",
      "epochs number: 224001 with average of last 10 loss: 0.35651508827634937\n",
      "epochs number: 228001 with average of last 10 loss: 0.35602032975270925\n",
      "epochs number: 232001 with average of last 10 loss: 0.3555517400210463\n",
      "epochs number: 236001 with average of last 10 loss: 0.35509204275214323\n",
      "epochs number: 240001 with average of last 10 loss: 0.3546284690526191\n",
      "epochs number: 244001 with average of last 10 loss: 0.35417790555050493\n",
      "epochs number: 248001 with average of last 10 loss: 0.3537460590468482\n",
      "epochs number: 252001 with average of last 10 loss: 0.3533099020726336\n",
      "epochs number: 256001 with average of last 10 loss: 0.3528850299255764\n",
      "epochs number: 260001 with average of last 10 loss: 0.3524473905562208\n",
      "epochs number: 264001 with average of last 10 loss: 0.35202443502885233\n",
      "epochs number: 268001 with average of last 10 loss: 0.3516091388907087\n",
      "epochs number: 272001 with average of last 10 loss: 0.35121449420916356\n",
      "epochs number: 276001 with average of last 10 loss: 0.35081709679051676\n",
      "epochs number: 280001 with average of last 10 loss: 0.35042449343231363\n",
      "epochs number: 284001 with average of last 10 loss: 0.3500362224670278\n",
      "epochs number: 288001 with average of last 10 loss: 0.34965108214542645\n",
      "epochs number: 292001 with average of last 10 loss: 0.3492668672924209\n",
      "epochs number: 296001 with average of last 10 loss: 0.3488949925873061\n",
      "epochs number: 300001 with average of last 10 loss: 0.34853001548219126\n",
      "epochs number: 304001 with average of last 10 loss: 0.347838446255472\n",
      "epochs number: 308001 with average of last 10 loss: 0.3471581592879262\n",
      "epochs number: 312001 with average of last 10 loss: 0.34648994723094745\n",
      "epochs number: 316001 with average of last 10 loss: 0.3458395444063994\n",
      "epochs number: 320001 with average of last 10 loss: 0.34520066633630214\n",
      "epochs number: 324001 with average of last 10 loss: 0.3445838373430759\n",
      "epochs number: 328001 with average of last 10 loss: 0.34398332987923486\n",
      "epochs number: 332001 with average of last 10 loss: 0.3433973220798476\n",
      "epochs number: 336001 with average of last 10 loss: 0.3428181747539322\n",
      "epochs number: 340001 with average of last 10 loss: 0.34224889455935853\n",
      "epochs number: 344001 with average of last 10 loss: 0.34169642820036705\n",
      "epochs number: 348001 with average of last 10 loss: 0.3411606549624895\n",
      "epochs number: 352001 with average of last 10 loss: 0.340630883552081\n",
      "epochs number: 356001 with average of last 10 loss: 0.34011392695077575\n",
      "epochs number: 360001 with average of last 10 loss: 0.33960625763487545\n",
      "epochs number: 364001 with average of last 10 loss: 0.33911291758335393\n",
      "epochs number: 368001 with average of last 10 loss: 0.33862992437802875\n",
      "epochs number: 372001 with average of last 10 loss: 0.33816051277677533\n",
      "epochs number: 376001 with average of last 10 loss: 0.3376983969699099\n",
      "epochs number: 380001 with average of last 10 loss: 0.3372459849693453\n",
      "epochs number: 384001 with average of last 10 loss: 0.33680498864899855\n",
      "epochs number: 388001 with average of last 10 loss: 0.33636476923390823\n",
      "epochs number: 392001 with average of last 10 loss: 0.3359322146460396\n",
      "epochs number: 396001 with average of last 10 loss: 0.3355157172791572\n",
      "total epochs processed: 400000 with average of last 10 loss: 0.33510251469127256\n"
     ]
    }
   ],
   "source": [
    "epoch = 200000\n",
    "learning_rate = 0.1\n",
    "decay = 0.1\n",
    "batch_size = 250\n",
    "decay_threshold = 300000\n",
    "\n",
    "for i in range(epoch):\n",
    "    \n",
    "    # minibatch contstruct, faster although not exact\n",
    "    ix = torch.randint(0, X_train.shape[0], (batch_size, ))\n",
    "    \n",
    "    # forward\n",
    "    emb = C[X_train[ix]]                               \n",
    "    hidden = torch.tanh(emb.view(-1, input_size) @ W1 + b1)      \n",
    "    logits = hidden @ W2 + b2                            \n",
    "    loss = F.cross_entropy(logits, Y_train[ix])\n",
    "\n",
    "    # backward\n",
    "    for p in parameters:\n",
    "        p.grad = None # zero_grade\n",
    "        \n",
    "    loss.backward()\n",
    "    # update\n",
    "    for p in parameters:\n",
    "        p.data += -learning_rate * p.grad\n",
    "    \n",
    "    # track stats\n",
    "    total_epochs += 1\n",
    "    stepi.append(i)\n",
    "    lossi.append(loss.log10().item())\n",
    "    \n",
    "    if total_epochs > 0 and total_epochs%decay_threshold == 0:\n",
    "        learning_rate *= decay\n",
    "        \n",
    "    if i % 4000 == 0:\n",
    "        print(f\"epochs number: {total_epochs} with average of last 10 loss: {np.mean(lossi[:-10])}\")\n",
    "\n",
    "print(f\"total epochs processed: {total_epochs} with average of last 10 loss: {np.mean(lossi[:-10])}\")"
   ]
  },
  {
   "cell_type": "code",
   "execution_count": 304,
   "id": "43f8aad7",
   "metadata": {},
   "outputs": [
    {
     "data": {
      "text/plain": [
       "[<matplotlib.lines.Line2D at 0x2e7d74790>]"
      ]
     },
     "execution_count": 304,
     "metadata": {},
     "output_type": "execute_result"
    },
    {
     "data": {
      "image/png": "[encoded data removed]",
      "text/plain": [
       "<Figure size 640x480 with 1 Axes>"
      ]
     },
     "metadata": {},
     "output_type": "display_data"
    }
   ],
   "source": [
    "plt.plot(stepi, lossi)"
   ]
  },
  {
   "cell_type": "code",
   "execution_count": 305,
   "id": "5865d8c7",
   "metadata": {},
   "outputs": [
    {
     "name": "stdout",
     "output_type": "stream",
     "text": [
      "total epochs processed: 400000 with dev_loss: 1.9698072671890259\n"
     ]
    }
   ],
   "source": [
    "# evaluate train loss\n",
    "emb = C[X_train]                                 # Size([32, 3, 2])\n",
    "hidden = torch.tanh(emb.view(-1, input_size) @ W1 + b1) # Size([32, 100])\n",
    "logits = hidden @ W2 + b2                      # Size([32, 27])\n",
    "train_loss = F.cross_entropy(logits, Y_train)\n",
    "print(f\"total epochs processed: {total_epochs} with dev_loss: {train_loss}\")"
   ]
  },
  {
   "cell_type": "code",
   "execution_count": 306,
   "id": "6bde1c4b",
   "metadata": {},
   "outputs": [
    {
     "name": "stdout",
     "output_type": "stream",
     "text": [
      "total epochs processed: 400000 with dev_loss: 2.0916128158569336\n"
     ]
    }
   ],
   "source": [
    "# Evaluate parameters\n",
    "emb = C[X_dev]                                 # Size([32, 3, 2])\n",
    "hidden = torch.tanh(emb.view(-1,input_size) @ W1 + b1) # Size([32, 100])\n",
    "logits = hidden @ W2 + b2                      # Size([32, 27])\n",
    "dev_loss = F.cross_entropy(logits, Y_dev)\n",
    "dev_loss\n",
    "print(f\"total epochs processed: {total_epochs} with dev_loss: {dev_loss}\")"
   ]
  },
  {
   "cell_type": "markdown",
   "id": "79acc296",
   "metadata": {},
   "source": [
    "------------------------"
   ]
  },
  {
   "cell_type": "markdown",
   "id": "f675b279",
   "metadata": {},
   "source": [
    "When running this through 50,000 times for a train_loss of 2.37 and a dev_loss of 2.335 we see that we are underfitting (these two are much the same). We went back to adjust make a bigger network to address this by bumping up the hidden layer (tanh) to 300."
   ]
  },
  {
   "cell_type": "code",
   "execution_count": 173,
   "id": "323c4c8f",
   "metadata": {},
   "outputs": [
    {
     "data": {
      "image/png": "[encoded data removed]",
      "text/plain": [
       "<Figure size 800x800 with 1 Axes>"
      ]
     },
     "metadata": {},
     "output_type": "display_data"
    }
   ],
   "source": [
    "plt.figure(figsize=(8,8))\n",
    "plt.scatter(C[:,0].data, C[:,1].data, s=200)\n",
    "for i in range(C.shape[0]):\n",
    "    plt.text(C[i,0].item(), C[i,1].item(), ind_to_str[i], ha=\"center\", va=\"center\", color=\"white\")\n",
    "plt.grid('minor')"
   ]
  },
  {
   "cell_type": "markdown",
   "id": "b8e08f2a",
   "metadata": {},
   "source": [
    "This gives an idea of the embedding space after all this. There is still a bottle neck to the network though. We will go ahead an change the embeddings but it won't be good to visualize like it was above"
   ]
  },
  {
   "cell_type": "markdown",
   "id": "4d84b9a6",
   "metadata": {},
   "source": [
    "The best he had after 30 min was 2.17 on dev_loss let's see if we can get better. \n",
    "\n",
    "Here are some knobs:\n",
    "1. Number of nuerons in the model\n",
    "2. The dimensionality of the lookup table\n",
    "3. Change the number of characters fed in (block_size)\n",
    "4. Learning rate\n",
    "5. Decays\n",
    "6. Batch Size could improve the speed"
   ]
  },
  {
   "cell_type": "markdown",
   "id": "24d6e83c",
   "metadata": {},
   "source": [
    "I got to 2.15 just by having hte learning reate decay every 100000 by a factor of 10 and running it 400000 times. Next I'm trying to move to a 4 block size instead. \n",
    "\n",
    "That got the dev block to 2.14 and the test to 2.17. Interesting! This was only in 200000. So this diverged a bit. Sounds like I'm over fitting. Let's move the batch size up to 50. This let it converge faster so train went down to 2.09 and dev loss to 2.13. Let's run it for 200,000 more. That knocked it down to 2.04 and 2.10 so let's increase the batch size to 150. At 800000 epocs we are still going down. Maybe it needs more batch size to converge quicker?  A 1,000,000 we have 1.98 and 2.07 respecitively. This is still going down together though...\n",
    "\n",
    "Let's up the batch size to 250 and start over let's also not decrease the learning rate until every 300000 as it's really steady. At 200000 we are already doing better with 2.09, 2.14. From teh graph we can see it's starting to trend down but not quickly. \n",
    "\n",
    "Let's up the neurons to a bigger network. 500 to play. After 200000 it's at 2.08 and 2.14. So I'm not sure it actually made much of a difference. After 400000 it has lowered to 1.9 and 2.09. \n",
    "\n",
    "I think I'm happy with this for now. What's the actual test data say?\n",
    "\n",
    "## Test Data"
   ]
  },
  {
   "cell_type": "code",
   "execution_count": 308,
   "id": "ac892b08",
   "metadata": {},
   "outputs": [
    {
     "name": "stdout",
     "output_type": "stream",
     "text": [
      "total epochs processed: 400000 with dev_loss: 2.102531909942627\n"
     ]
    }
   ],
   "source": [
    "# Evaluate parameters\n",
    "emb = C[X_test]                                # Size([32, 3, 2])\n",
    "hidden = torch.tanh(emb.view(-1,input_size) @ W1 + b1) # Size([32, 100])\n",
    "logits = hidden @ W2 + b2                      # Size([32, 27])\n",
    "test_loss = F.cross_entropy(logits, Y_test)\n",
    "print(f\"total epochs processed: {total_epochs} with dev_loss: {test_loss}\")"
   ]
  },
  {
   "cell_type": "markdown",
   "id": "19b13805",
   "metadata": {},
   "source": [
    "## Sampling"
   ]
  },
  {
   "cell_type": "code",
   "execution_count": 311,
   "id": "6e30b19a",
   "metadata": {},
   "outputs": [
    {
     "name": "stdout",
     "output_type": "stream",
     "text": [
      "carmah.\n",
      "amelle.\n",
      "khi.\n",
      "milia.\n",
      "atlankanden.\n",
      "jazhurn.\n",
      "deliah.\n",
      "jareen.\n",
      "nellara.\n",
      "chaiir.\n",
      "kaleigh.\n",
      "hamondin.\n",
      "quint.\n",
      "shoilyn.\n",
      "jadbi.\n",
      "wazelyn.\n",
      "jaryn.\n",
      "kalyse.\n",
      "dusa.\n",
      "mestice.\n"
     ]
    }
   ],
   "source": [
    "g = torch.Generator().manual_seed(2147483647 + 10) # reproducibility \n",
    "\n",
    "for _ in range(20):\n",
    "    out = []\n",
    "    context = [0] * block_size\n",
    "    while True:\n",
    "        emb = C[torch.tensor([context])]                       # Size([1, block_size, d])\n",
    "        hidden = torch.tanh(emb.view(-1,input_size) @ W1 + b1) \n",
    "        logits = hidden @ W2 + b2             \n",
    "        probs = F.softmax(logits, dim=1)\n",
    "        index = torch.multinomial(probs, num_samples=1, generator=g).item()\n",
    "        context = context[1:] + [index]\n",
    "        out.append(index)\n",
    "        if index == 0:\n",
    "            break\n",
    "    \n",
    "    print(''.join(ind_to_str[i] for i in out))"
   ]
  },
  {
   "cell_type": "code",
   "execution_count": null,
   "id": "0f0dd4c7",
   "metadata": {},
   "outputs": [],
   "source": []
  }
 ],
 "metadata": {
  "kernelspec": {
   "display_name": "ml_learning",
   "language": "python",
   "name": "ml_learning"
  },
  "language_info": {
   "codemirror_mode": {
    "name": "ipython",
    "version": 3
   },
   "file_extension": ".py",
   "mimetype": "text/x-python",
   "name": "python",
   "nbconvert_exporter": "python",
   "pygments_lexer": "ipython3",
   "version": "3.11.7"
  }
 },
 "nbformat": 4,
 "nbformat_minor": 5
}
