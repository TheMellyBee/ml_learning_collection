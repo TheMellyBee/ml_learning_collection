{
 "cells": [
  {
   "cell_type": "markdown",
   "id": "e241deef",
   "metadata": {},
   "source": [
    "# Continuation of Makemore - MLP - Back prop manually\n",
    "The last tutorial was based on the following paper by [Bengio, et all](https://www.jmlr.org/papers/volume3/bengio03a/bengio03a.pdf) and the lovely YouTube series by Andrej Karpathy. This goes forward with more on the MLP thinking through batch normalization and optimiazaion. \n",
    "\n",
    "In the last we made a bigram model through counts and a simple 1 layer NN. This time we will be following this paper to make a version of an MLP. \n",
    "\n",
    "I will be building out a similar to [this tool](https://github.com/karpathy/makemore/tree/master) from scratch. Note that I will be following the tutorial doing it step by step not looking at the final repo. \n",
    "\n",
    "Over all I will work through these papers:\n",
    "- Bigram (one character predicts the next one with a lookup table of counts)\n",
    "- MLP, following [Bengio et al. 2003](https://www.jmlr.org/papers/volume3/bengio03a/bengio03a.pdf)\n",
    "- CNN, following [DeepMind WaveNet 2016](https://arxiv.org/abs/1609.03499) (in progress...)\n",
    "- RNN, following [Mikolov et al. 2010](https://www.fit.vutbr.cz/research/groups/speech/publi/2010/mikolov_interspeech2010_IS100722.pdf)\n",
    "- LSTM, following [Graves et al. 2014](https://arxiv.org/abs/1308.0850)\n",
    "- GRU, following [Kyunghyun Cho et al. 2014](https://arxiv.org/abs/1409.1259)\n",
    "- Transformer, following [Vaswani et al. 2017](https://arxiv.org/abs/1706.03762"
   ]
  },
  {
   "cell_type": "markdown",
   "id": "b4e01fa8",
   "metadata": {},
   "source": [
    "Note that right now we don't write backward passes by hand :) It's still good to know though to be able to understand how to debug and avoid problems"
   ]
  },
  {
   "cell_type": "code",
   "execution_count": 2,
   "id": "258769bb",
   "metadata": {},
   "outputs": [],
   "source": [
    "import torch\n",
    "import math\n",
    "import numpy as np\n",
    "import matplotlib.pyplot as plt\n",
    "import random\n",
    "import torch.nn.functional as F\n",
    "%matplotlib inline"
   ]
  },
  {
   "cell_type": "code",
   "execution_count": 3,
   "id": "373cc3b3",
   "metadata": {},
   "outputs": [
    {
     "name": "stdout",
     "output_type": "stream",
     "text": [
      "Total number of words: 32033\n",
      "Smallest Word is 2 char while the largest is 15 char\n"
     ]
    }
   ],
   "source": [
    "words = open(\"data/names.txt\", \"r\").read().splitlines()\n",
    "print(f'Total number of words: {len(words)}')\n",
    "smallest = min(len(w) for w in words)\n",
    "largest = max(len(w) for w in words)\n",
    "print(f'Smallest Word is {smallest} char while the largest is {largest} char')"
   ]
  },
  {
   "cell_type": "code",
   "execution_count": 4,
   "id": "cf2e15a2",
   "metadata": {},
   "outputs": [
    {
     "name": "stdout",
     "output_type": "stream",
     "text": [
      "{1: 'a', 2: 'b', 3: 'c', 4: 'd', 5: 'e', 6: 'f', 7: 'g', 8: 'h', 9: 'i', 10: 'j', 11: 'k', 12: 'l', 13: 'm', 14: 'n', 15: 'o', 16: 'p', 17: 'q', 18: 'r', 19: 's', 20: 't', 21: 'u', 22: 'v', 23: 'w', 24: 'x', 25: 'y', 26: 'z', 0: '.'}\n",
      "27\n"
     ]
    }
   ],
   "source": [
    "# build the covabulary of chars and mappings \n",
    "chars = sorted(list(set(''.join(words))))\n",
    "str_to_ind = {s:i + 1 for i,s in enumerate(chars)}\n",
    "str_to_ind['.'] = 0\n",
    "ind_to_str = {i:s for s,i in str_to_ind.items()}\n",
    "print(ind_to_str)\n",
    "vocab_size = len(ind_to_str)\n",
    "print(vocab_size)"
   ]
  },
  {
   "cell_type": "code",
   "execution_count": 10,
   "id": "3bfee539",
   "metadata": {},
   "outputs": [
    {
     "name": "stdout",
     "output_type": "stream",
     "text": [
      "torch.Size([182580, 3]) torch.Size([182580])\n",
      "torch.Size([22767, 3]) torch.Size([22767])\n",
      "torch.Size([22799, 3]) torch.Size([22799])\n"
     ]
    }
   ],
   "source": [
    "def build_dataset(words, block_size=3):\n",
    "    X, Y = [], []\n",
    "    for word in words:\n",
    "        context = [0] * block_size # padded\n",
    "        for ch in word + '.':\n",
    "            ind = str_to_ind[ch]\n",
    "            X.append(context)\n",
    "            Y.append(ind)\n",
    "            context = context[1:] + [ind] # crop and append\n",
    "\n",
    "    X = torch.tensor(X)\n",
    "    Y = torch.tensor(Y)\n",
    "    print(X.shape, Y.shape)\n",
    "    return X, Y\n",
    "\n",
    "import random\n",
    "random.seed(42)\n",
    "random.shuffle(words)\n",
    "n1 = int(0.8 * len(words))\n",
    "n2 = int(0.9 * len(words))\n",
    "\n",
    "block_size=3\n",
    "X_train, Y_train = build_dataset(words[:n1], block_size=block_size)\n",
    "X_dev, Y_dev = build_dataset(words[n1:n2], block_size=block_size)\n",
    "X_test, Y_test = build_dataset(words[n2:], block_size=block_size)"
   ]
  },
  {
   "cell_type": "code",
   "execution_count": 23,
   "id": "25583bfb",
   "metadata": {},
   "outputs": [],
   "source": [
    "def cmp(s, dt, t):\n",
    "    exact = torch.all(dt == t.grad).item()\n",
    "    approx = torch.allclose(dt, t.grad)\n",
    "    max_diff = (dt - t.grad).abs().max().item()\n",
    "    print(f'{s:15s} | exact: {str(exact):5s} | approximate: {str(approx):5s} | max diff: {max_diff}')"
   ]
  },
  {
   "cell_type": "code",
   "execution_count": 12,
   "id": "217c5d28",
   "metadata": {},
   "outputs": [
    {
     "name": "stdout",
     "output_type": "stream",
     "text": [
      "12097\n"
     ]
    }
   ],
   "source": [
    "total_epochs = 0\n",
    "lossi = []\n",
    "n_emb_dim = 10\n",
    "hidden_nodes = 200\n",
    "input_size = n_emb_dim*block_size\n",
    "gain = 5/3 \n",
    "kaining_normal = gain / input_size**0.5\n",
    "\n",
    "g = torch.Generator().manual_seed(2147483647) # reproducibility \n",
    "C = torch.randn((vocab_size, n_emb_dim), generator=g)\n",
    "\n",
    "# Layer 1 \n",
    "W1 = torch.randn((input_size, hidden_nodes),   generator=g) * kaining_normal    \n",
    "b1 = torch.randn(hidden_nodes,                 generator=g) * 0.1 # scale this down to match \n",
    "\n",
    "# Layer 2\n",
    "W2 = torch.randn((hidden_nodes,vocab_size),    generator=g) * 0.1 # useless but in for fun for this lecture\n",
    "b2 = torch.randn(vocab_size,                   generator=g) * 0.1 # zero this out\n",
    "\n",
    "# Batch norm\n",
    "bngain = torch.ones((1, hidden_nodes)) * 0.1 + 1.0\n",
    "bnbias = torch.zeros((1, hidden_nodes)) * 0.1\n",
    "\n",
    "# Note: these are non standard init to make it more obvious \n",
    "# that the backpass was has any errors\n",
    "\n",
    "parameters = [C, W1, W2, b2, bngain, bnbias]\n",
    "\n",
    "print(sum(p.nelement() for p in parameters))\n",
    "for p in parameters:\n",
    "    p.requires_grad = True"
   ]
  },
  {
   "cell_type": "code",
   "execution_count": 13,
   "id": "401777dc",
   "metadata": {},
   "outputs": [],
   "source": [
    "batch_size = 32\n",
    "epsilon = 1e-5\n",
    "n = batch_size # convience short name\n",
    "\n",
    "# mini batch\n",
    "ix = torch.randint(0, X_train.shape[0], (batch_size, ), generator=g)\n",
    "Xb, Yb = X_train[ix], Y_train[ix]"
   ]
  },
  {
   "cell_type": "code",
   "execution_count": 15,
   "id": "81b4e5b7",
   "metadata": {},
   "outputs": [
    {
     "data": {
      "text/plain": [
       "tensor(3.6560, grad_fn=<NegBackward0>)"
      ]
     },
     "execution_count": 15,
     "metadata": {},
     "output_type": "execute_result"
    }
   ],
   "source": [
    "# FORWARD PASS\n",
    "# Note this is similar to before, but it has explicit instead of bass cross_entropy\n",
    "# also it's brocken up more to create the back pross\n",
    "\n",
    "emb = C[Xb]     \n",
    "emb_concat = emb.view(emb.shape[0],-1)\n",
    "\n",
    "# Linear layer 1 \n",
    "hidden_pre_bn = emb_concat @W1 + b1\n",
    "\n",
    "# Batch Norm\n",
    "bn_mean_i = 1/n*hidden_pre_bn.sum(0, keepdim=True)\n",
    "bn_diff = hidden_pre_bn - bn_mean_i\n",
    "bn_diff_squared = bn_diff**2\n",
    "bn_var = 1/(n-1) * bn_diff_squared.sum(0, keepdim=True) # note Bessesl's correction (divide by n-1)\n",
    "bn_var_inv = (bn_var + epsilon)**-0.5\n",
    "bn_raw = bn_diff * bn_var_inv\n",
    "hidden_pre_act = bngain *bn_raw + bnbias\n",
    "\n",
    "# non-linearity\n",
    "hidden = torch.tanh(hidden_pre_act)\n",
    "\n",
    "# Linear layer 2\n",
    "logits = hidden @ W2 + b2\n",
    "\n",
    "# cross entropy loss\n",
    "logit_maxes = logits.max(1, keepdim=True).values\n",
    "norm_logits = logits - logit_maxes\n",
    "counts = norm_logits.exp()\n",
    "counts_sum = \n",
    "counts_sum_inv = counts_sum**-1 # this is to do bit exact\n",
    "probs = counts * counts_sum_inv\n",
    "logprobs = probs.log()\n",
    "loss = -logprobs[range(n), Yb].mean()\n",
    "\n",
    "# backward pass\n",
    "for p in parameters:\n",
    "    p.grad = None\n",
    "\n",
    "for t in [logprobs, probs, counts_sum_inv, counts_sum, counts,\n",
    "          norm_logits, logit_maxes, logits, hidden, hidden_pre_act,\n",
    "          bn_raw, bn_var_inv, bn_var, bn_diff_squared, bn_diff,\n",
    "          bn_mean_i, hidden_pre_bn,emb_concat, emb\n",
    "         ]:\n",
    "    t.retain_grad()\n",
    "\n",
    "loss.backward()\n",
    "loss"
   ]
  },
  {
   "cell_type": "code",
   "execution_count": 102,
   "id": "9973098b",
   "metadata": {},
   "outputs": [
    {
     "name": "stdout",
     "output_type": "stream",
     "text": [
      "logprobs        | exact: True  | approximate: True  | max diff: 0.0\n",
      "probs           | exact: True  | approximate: True  | max diff: 0.0\n",
      "counts_sum_inv  | exact: True  | approximate: True  | max diff: 0.0\n",
      "counts_sum      | exact: True  | approximate: True  | max diff: 0.0\n",
      "counts          | exact: True  | approximate: True  | max diff: 0.0\n",
      "norm_logits     | exact: True  | approximate: True  | max diff: 0.0\n",
      "logit_maxes     | exact: True  | approximate: True  | max diff: 0.0\n",
      "logits          | exact: True  | approximate: True  | max diff: 0.0\n",
      "hidden          | exact: True  | approximate: True  | max diff: 0.0\n",
      "W2              | exact: True  | approximate: True  | max diff: 0.0\n",
      "b2              | exact: True  | approximate: True  | max diff: 0.0\n",
      "hidden_pre_act  | exact: True  | approximate: True  | max diff: 0.0\n",
      "bngain          | exact: True  | approximate: True  | max diff: 0.0\n",
      "bnbias          | exact: True  | approximate: True  | max diff: 0.0\n",
      "bn_raw          | exact: True  | approximate: True  | max diff: 0.0\n",
      "bnvar_inv       | exact: True  | approximate: True  | max diff: 0.0\n",
      "bnvar           | exact: True  | approximate: True  | max diff: 0.0\n",
      "bn_diff_squared | exact: True  | approximate: True  | max diff: 0.0\n",
      "bn_diff         | exact: True  | approximate: True  | max diff: 0.0\n",
      "bn_mean_i       | exact: True  | approximate: True  | max diff: 0.0\n",
      "hidden_pre_bn   | exact: True  | approximate: True  | max diff: 0.0\n",
      "emb_concat      | exact: True  | approximate: True  | max diff: 0.0\n",
      "W1              | exact: True  | approximate: True  | max diff: 0.0\n"
     ]
    },
    {
     "ename": "TypeError",
     "evalue": "all() received an invalid combination of arguments - got (bool), but expected one of:\n * (Tensor input, *, Tensor out)\n * (Tensor input, tuple of ints dim, bool keepdim, *, Tensor out)\n * (Tensor input, int dim, bool keepdim, *, Tensor out)\n * (Tensor input, name dim, bool keepdim, *, Tensor out)\n",
     "output_type": "error",
     "traceback": [
      "\u001b[0;31m---------------------------------------------------------------------------\u001b[0m",
      "\u001b[0;31mTypeError\u001b[0m                                 Traceback (most recent call last)",
      "Cell \u001b[0;32mIn[102], line 70\u001b[0m\n\u001b[1;32m     68\u001b[0m cmp(\u001b[38;5;124m'\u001b[39m\u001b[38;5;124memb_concat\u001b[39m\u001b[38;5;124m'\u001b[39m, dembcat, emb_concat)\n\u001b[1;32m     69\u001b[0m cmp(\u001b[38;5;124m'\u001b[39m\u001b[38;5;124mW1\u001b[39m\u001b[38;5;124m'\u001b[39m, dW1, W1)\n\u001b[0;32m---> 70\u001b[0m \u001b[43mcmp\u001b[49m\u001b[43m(\u001b[49m\u001b[38;5;124;43m'\u001b[39;49m\u001b[38;5;124;43mb1\u001b[39;49m\u001b[38;5;124;43m'\u001b[39;49m\u001b[43m,\u001b[49m\u001b[43m \u001b[49m\u001b[43mdb1\u001b[49m\u001b[43m,\u001b[49m\u001b[43m \u001b[49m\u001b[43mb1\u001b[49m\u001b[43m)\u001b[49m \u001b[38;5;66;03m# note: this was done the same way but is failing\u001b[39;00m\n\u001b[1;32m     71\u001b[0m cmp(\u001b[38;5;124m'\u001b[39m\u001b[38;5;124memb\u001b[39m\u001b[38;5;124m'\u001b[39m, demb, emb)\n\u001b[1;32m     72\u001b[0m cmp(\u001b[38;5;124m'\u001b[39m\u001b[38;5;124mC\u001b[39m\u001b[38;5;124m'\u001b[39m, dC, C)\n",
      "Cell \u001b[0;32mIn[23], line 2\u001b[0m, in \u001b[0;36mcmp\u001b[0;34m(s, dt, t)\u001b[0m\n\u001b[1;32m      1\u001b[0m \u001b[38;5;28;01mdef\u001b[39;00m \u001b[38;5;21mcmp\u001b[39m(s, dt, t):\n\u001b[0;32m----> 2\u001b[0m     exact \u001b[38;5;241m=\u001b[39m \u001b[43mtorch\u001b[49m\u001b[38;5;241;43m.\u001b[39;49m\u001b[43mall\u001b[49m\u001b[43m(\u001b[49m\u001b[43mdt\u001b[49m\u001b[43m \u001b[49m\u001b[38;5;241;43m==\u001b[39;49m\u001b[43m \u001b[49m\u001b[43mt\u001b[49m\u001b[38;5;241;43m.\u001b[39;49m\u001b[43mgrad\u001b[49m\u001b[43m)\u001b[49m\u001b[38;5;241m.\u001b[39mitem()\n\u001b[1;32m      3\u001b[0m     approx \u001b[38;5;241m=\u001b[39m torch\u001b[38;5;241m.\u001b[39mallclose(dt, t\u001b[38;5;241m.\u001b[39mgrad)\n\u001b[1;32m      4\u001b[0m     max_diff \u001b[38;5;241m=\u001b[39m (dt \u001b[38;5;241m-\u001b[39m t\u001b[38;5;241m.\u001b[39mgrad)\u001b[38;5;241m.\u001b[39mabs()\u001b[38;5;241m.\u001b[39mmax()\u001b[38;5;241m.\u001b[39mitem()\n",
      "\u001b[0;31mTypeError\u001b[0m: all() received an invalid combination of arguments - got (bool), but expected one of:\n * (Tensor input, *, Tensor out)\n * (Tensor input, tuple of ints dim, bool keepdim, *, Tensor out)\n * (Tensor input, int dim, bool keepdim, *, Tensor out)\n * (Tensor input, name dim, bool keepdim, *, Tensor out)\n"
     ]
    }
   ],
   "source": [
    "# Exercise 1: backprop through the whole thing manually, \n",
    "# backpropagating through exactly all of the variables \n",
    "# as they are defined in the forward pass above, one by one\n",
    "\n",
    "dlogprobs = torch.zeros_like(logprobs)\n",
    "dlogprobs[range(n), Yb] = -1/n # only the one that are in the loss\n",
    "dprobs = 1.0 / probs * dlogprobs\n",
    "dcounts = counts_sum_inv * dprobs\n",
    "dcounts_sum_inv = (counts * dprobs).sum(1, keepdim=True)\n",
    "dcounts_sum = -counts_sum**-2 * dcounts_sum_inv\n",
    "\n",
    "dcounts += torch.ones_like(counts) * dcounts_sum \n",
    "dnorm_logits =  counts * dcounts # counts == e^x\n",
    "dlogits = dnorm_logits.clone()\n",
    "dlogit_maxes = (-dlogits).sum(1, keepdim=True)\n",
    "\n",
    "dlogits += F.one_hot(logits.max(1).indices, num_classes=logits.shape[1]) * dlogit_maxes\n",
    "dh = dlogits @ W2.T \n",
    "dW2 = hidden.T @ dlogits \n",
    "db2 = dlogits.sum(0, keepdim=True) \n",
    "\n",
    "dhpreact = (1.0 - hidden**2) * dh\n",
    "dbngain = (bn_raw * dhpreact).sum(0, keepdim=True) \n",
    "dbnbias = dhpreact.sum(0, keepdim=True)\n",
    "dbnraw = bngain * dhpreact\n",
    "dbnvar_inv = (bn_diff * dbnraw).sum(0, keepdim=True)\n",
    "dbndiff = bn_var_inv * dbnraw\n",
    "\n",
    "dbnvar = -0.5 * (bn_var + epsilon)**-1.5 * dbnvar_inv\n",
    "dbndiff2 = (1/(n-1)*torch.ones_like(bn_diff_squared)) * dbnvar\n",
    "dbndiff += 2 * bn_diff * dbndiff2\n",
    "dbnmeani = (-dbndiff).sum(0) \n",
    "dhprebn = dbndiff.clone()+ 1.0/n * (torch.ones_like(hidden_pre_act) * dbnmeani)\n",
    "\n",
    " # hidden_pre_bn = emb_concat @W1 + b1\n",
    "dembcat = dhprebn @ W1.T\n",
    "dW1 = emb_concat.T @ dhprebn\n",
    "db1 = dhprebn.sum(0)\n",
    "\n",
    "demb = dembcat.view(emb.shape)\n",
    "dC = torch.zeros_like(C) \n",
    "for k in range(Xb.shape[0]):\n",
    "    for j in range(Xb.shape[1]):\n",
    "        ix = Xb[k, j]\n",
    "        dC[ix] += demb[k, j] \n",
    "\n",
    "cmp('logprobs', dlogprobs, logprobs)\n",
    "cmp('probs', dprobs, probs)\n",
    "cmp('counts_sum_inv', dcounts_sum_inv, counts_sum_inv)\n",
    "cmp('counts_sum', dcounts_sum, counts_sum)\n",
    "cmp('counts', dcounts, counts)\n",
    "cmp('norm_logits', dnorm_logits, norm_logits)\n",
    "cmp('logit_maxes', dlogit_maxes, logit_maxes)\n",
    "cmp('logits', dlogits, logits)\n",
    "cmp('hidden', dh, hidden)\n",
    "cmp('W2', dW2, W2)\n",
    "cmp('b2', db2, b2)\n",
    "cmp('hidden_pre_act', dhpreact, hidden_pre_act)\n",
    "cmp('bngain', dbngain, bngain)\n",
    "cmp('bnbias', dbnbias, bnbias)\n",
    "cmp('bn_raw', dbnraw, bn_raw)\n",
    "cmp('bnvar_inv', dbnvar_inv, bn_var_inv)\n",
    "cmp('bnvar', dbnvar, bn_var)\n",
    "cmp('bn_diff_squared', dbndiff2, bn_diff_squared)\n",
    "cmp('bn_diff', dbndiff, bn_diff)\n",
    "cmp('bn_mean_i', dbnmeani, bn_mean_i)\n",
    "cmp('hidden_pre_bn', dhprebn, hidden_pre_bn)\n",
    "cmp('emb_concat', dembcat, emb_concat)\n",
    "cmp('W1', dW1, W1)\n",
    "cmp('b1', db1, b1) # note: this was done the same way but is failing\n",
    "cmp('emb', demb, emb)\n",
    "cmp('C', dC, C)"
   ]
  },
  {
   "cell_type": "code",
   "execution_count": 103,
   "id": "da2f1ac2",
   "metadata": {},
   "outputs": [
    {
     "name": "stdout",
     "output_type": "stream",
     "text": [
      "3.655993938446045 diff: -2.384185791015625e-07\n"
     ]
    }
   ],
   "source": [
    "# Exercise 2: backprop through cross_entropy but all in one go\n",
    "# to complete this challenge look at the mathematical expression of the loss,\n",
    "# take the derivative, simplify the expression, and just write it out\n",
    "\n",
    "# forward pass\n",
    "\n",
    "# before:\n",
    "# logit_maxes = logits.max(1, keepdim=True).values\n",
    "# norm_logits = logits - logit_maxes # subtract max for numerical stability\n",
    "# counts = norm_logits.exp()\n",
    "# counts_sum = counts.sum(1, keepdims=True)\n",
    "# counts_sum_inv = counts_sum**-1 # if I use (1.0 / counts_sum) instead then I can't get backprop to be bit exact...\n",
    "# probs = counts * counts_sum_inv\n",
    "# logprobs = probs.log()\n",
    "# loss = -logprobs[range(n), Yb].mean()\n",
    "\n",
    "# now:\n",
    "loss_fast = F.cross_entropy(logits, Yb)\n",
    "print(loss_fast.item(), 'diff:', (loss_fast - loss).item())"
   ]
  },
  {
   "cell_type": "code",
   "execution_count": 104,
   "id": "0c042746",
   "metadata": {},
   "outputs": [
    {
     "name": "stdout",
     "output_type": "stream",
     "text": [
      "logits          | exact: False | approximate: True  | max diff: 7.916241884231567e-09\n"
     ]
    }
   ],
   "source": [
    "# backward pass\n",
    "\n",
    "dlogits = F.softmax(logits, 1)\n",
    "dlogits[range(n), Yb] -= 1\n",
    "dlogits /= n\n",
    "\n",
    "cmp('logits', dlogits, logits) # I can only get approximate to be true, my maxdiff is 6e-9"
   ]
  },
  {
   "cell_type": "code",
   "execution_count": 105,
   "id": "68c5f5e6",
   "metadata": {},
   "outputs": [
    {
     "data": {
      "text/plain": [
       "tensor([ 0.0194,  0.0071,  0.0038,  0.0204,  0.1258, -0.9365,  0.0402,  0.0110,\n",
       "         0.0333,  0.0056,  0.0066,  0.0051,  0.0188,  0.0876,  0.0055,  0.0028,\n",
       "         0.0441,  0.0144,  0.0097,  0.0667,  0.0450,  0.0020,  0.2198,  0.1213,\n",
       "         0.0069,  0.0123,  0.0013], grad_fn=<MulBackward0>)"
      ]
     },
     "execution_count": 105,
     "metadata": {},
     "output_type": "execute_result"
    }
   ],
   "source": [
    "dlogits[0] * n"
   ]
  },
  {
   "cell_type": "code",
   "execution_count": 106,
   "id": "49ca01d8",
   "metadata": {},
   "outputs": [
    {
     "data": {
      "text/plain": [
       "<matplotlib.image.AxesImage at 0x12adcf850>"
      ]
     },
     "execution_count": 106,
     "metadata": {},
     "output_type": "execute_result"
    },
    {
     "data": {
      "image/png": "[encoded data removed]",
      "text/plain": [
       "<Figure size 800x800 with 1 Axes>"
      ]
     },
     "metadata": {},
     "output_type": "display_data"
    }
   ],
   "source": [
    "# dlogits are a force to pull down the probs of incorrect and pull up on the correct index\n",
    "# the sum is zero though so it's equal.\n",
    "\n",
    "plt.figure(figsize=(8,8))\n",
    "plt.imshow(dlogits.detach(), cmap='gray')"
   ]
  },
  {
   "cell_type": "code",
   "execution_count": 107,
   "id": "cc388481",
   "metadata": {},
   "outputs": [
    {
     "ename": "NameError",
     "evalue": "name 'hprebn' is not defined",
     "output_type": "error",
     "traceback": [
      "\u001b[0;31m---------------------------------------------------------------------------\u001b[0m",
      "\u001b[0;31mNameError\u001b[0m                                 Traceback (most recent call last)",
      "Cell \u001b[0;32mIn[107], line 14\u001b[0m\n\u001b[1;32m      1\u001b[0m \u001b[38;5;66;03m# Exercise 4 - doing the same for back norm\u001b[39;00m\n\u001b[1;32m      2\u001b[0m \n\u001b[1;32m      3\u001b[0m \u001b[38;5;66;03m# forward pass\u001b[39;00m\n\u001b[0;32m   (...)\u001b[0m\n\u001b[1;32m     12\u001b[0m \n\u001b[1;32m     13\u001b[0m \u001b[38;5;66;03m# now:\u001b[39;00m\n\u001b[0;32m---> 14\u001b[0m hpreact_fast \u001b[38;5;241m=\u001b[39m bngain \u001b[38;5;241m*\u001b[39m (\u001b[43mhprebn\u001b[49m \u001b[38;5;241m-\u001b[39m hprebn\u001b[38;5;241m.\u001b[39mmean(\u001b[38;5;241m0\u001b[39m, keepdim\u001b[38;5;241m=\u001b[39m\u001b[38;5;28;01mTrue\u001b[39;00m)) \u001b[38;5;241m/\u001b[39m torch\u001b[38;5;241m.\u001b[39msqrt(hprebn\u001b[38;5;241m.\u001b[39mvar(\u001b[38;5;241m0\u001b[39m, keepdim\u001b[38;5;241m=\u001b[39m\u001b[38;5;28;01mTrue\u001b[39;00m, unbiased\u001b[38;5;241m=\u001b[39m\u001b[38;5;28;01mTrue\u001b[39;00m) \u001b[38;5;241m+\u001b[39m \u001b[38;5;241m1e-5\u001b[39m) \u001b[38;5;241m+\u001b[39m bnbias\n\u001b[1;32m     15\u001b[0m \u001b[38;5;28mprint\u001b[39m(\u001b[38;5;124m'\u001b[39m\u001b[38;5;124mmax diff:\u001b[39m\u001b[38;5;124m'\u001b[39m, (hpreact_fast \u001b[38;5;241m-\u001b[39m hpreact)\u001b[38;5;241m.\u001b[39mabs()\u001b[38;5;241m.\u001b[39mmax())\n",
      "\u001b[0;31mNameError\u001b[0m: name 'hprebn' is not defined"
     ]
    }
   ],
   "source": [
    "# Exercise 4 - doing the same for back norm\n",
    "\n",
    "# forward pass\n",
    "# before:\n",
    "# bnmeani = 1/n*hprebn.sum(0, keepdim=True)\n",
    "# bndiff = hprebn - bnmeani\n",
    "# bndiff2 = bndiff**2\n",
    "# bnvar = 1/(n-1)*(bndiff2).sum(0, keepdim=True) # note: Bessel's correction (dividing by n-1, not n)\n",
    "# bnvar_inv = (bnvar + 1e-5)**-0.5\n",
    "# bnraw = bndiff * bnvar_inv\n",
    "# hpreact = bngain * bnraw + bnbias\n",
    "\n",
    "# now:\n",
    "hpreact_fast = bngain * (hprebn - hprebn.mean(0, keepdim=True)) / torch.sqrt(hprebn.var(0, keepdim=True, unbiased=True) + 1e-5) + bnbias\n",
    "print('max diff:', (hpreact_fast - hpreact).abs().max())"
   ]
  },
  {
   "cell_type": "code",
   "execution_count": null,
   "id": "f161c593",
   "metadata": {},
   "outputs": [],
   "source": []
  },
  {
   "cell_type": "code",
   "execution_count": null,
   "id": "38398724",
   "metadata": {},
   "outputs": [],
   "source": [
    "epoch = 200000\n",
    "learning_rate = 0.1\n",
    "decay = 0.1\n",
    "batch_size = 32\n",
    "decay_threshold = 100000\n",
    "\n",
    "for i in range(epoch):\n",
    "    \n",
    "    # minibatch contstruct, faster although not exact\n",
    "\n",
    "    \n",
    "    # forward\n",
    "    emb = C[Xb]     \n",
    "    emb_concat = emb.view(emb.shape[0],-1)\n",
    "    hidden_pr e_activation = emb_concat @ W1\n",
    "    \n",
    "    # batch normlaizaiton\n",
    "    hidden_mean = hidden_pre_activation.mean(0, keepdim=True)\n",
    "    hidden_std = hidden_pre_activation.std(0, keepdim=True)\n",
    "    hidden_pre_activation = bngain * (hidden_pre_activation - hidden_mean) / hidden_std + bnbias\n",
    "    \n",
    "    \n",
    "    # calculate the running bmean and bstd, slight smoothing\n",
    "    with torch.no_grad():\n",
    "        bnmean_running = 0.999 * bnmean_running + 0.001 * hidden_mean\n",
    "        bnstd_running = 0.999 * bnstd_running + 0.001 * hidden_std\n",
    "    \n",
    "    hidden = torch.tanh(hidden_pre_activation)      \n",
    "    logits = hidden @ W2 + b2                            \n",
    "    loss = F.cross_entropy(logits, Yb)\n",
    "\n",
    "    # backward\n",
    "    for p in parameters:\n",
    "        p.grad = None # zero_grade\n",
    "        \n",
    "    loss.backward()\n",
    "    # update\n",
    "    for p in parameters:\n",
    "        p.data += -learning_rate * p.grad\n",
    "    \n",
    "    if total_epochs > 0 and total_epochs%decay_threshold == 0:\n",
    "        learning_rate *= decay\n",
    "        \n",
    "            \n",
    "    if i % 10000 == 0 or i == epoch-1:\n",
    "        print(f\"epoch: {total_epochs:6} batch: {i:7}/{epoch:7} loss: {loss.item():5.3f}\")\n",
    "\n",
    "    # track stats\n",
    "    lossi.append(loss.log10().item())\n",
    "    total_epochs += 1\n",
    "    "
   ]
  }
 ],
 "metadata": {
  "kernelspec": {
   "display_name": "ml_learning",
   "language": "python",
   "name": "ml_learning"
  },
  "language_info": {
   "codemirror_mode": {
    "name": "ipython",
    "version": 3
   },
   "file_extension": ".py",
   "mimetype": "text/x-python",
   "name": "python",
   "nbconvert_exporter": "python",
   "pygments_lexer": "ipython3",
   "version": "3.11.7"
  }
 },
 "nbformat": 4,
 "nbformat_minor": 5
}
